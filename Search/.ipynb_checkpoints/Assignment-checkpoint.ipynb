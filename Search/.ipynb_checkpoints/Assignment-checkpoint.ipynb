{
 "cells": [
  {
   "cell_type": "markdown",
   "id": "separated-diagram",
   "metadata": {},
   "source": [
    "## Introduction to Pacman"
   ]
  },
  {
   "cell_type": "markdown",
   "id": "exceptional-fairy",
   "metadata": {},
   "source": [
    "In lectures you have learned the theory about agents such as a simple reflex agent or simple reflex agent with a state. In order to obtain an even better understanding of them, we turn to Pacman. "
   ]
  },
  {
   "cell_type": "markdown",
   "id": "pressing-cooling",
   "metadata": {},
   "source": [
    "You can start a game of Pacman by running the subsequent field (or by typing it in the command line):"
   ]
  },
  {
   "cell_type": "code",
   "execution_count": 1,
   "id": "international-ocean",
   "metadata": {},
   "outputs": [],
   "source": [
    "! python pacman.py"
   ]
  },
  {
   "cell_type": "markdown",
   "id": "afraid-current",
   "metadata": {},
   "source": [
    "We can think of our Pacman as an agent in the game environment. The simplest agent in `searchAgents.py` is called the `GoWestAgent`, which always goes West (a trivial reflex agent). \n",
    "\n",
    "(We can change an agent with `--pacman` option.)\n",
    "\n",
    "`GoWestAgent` agent can occasionally win:"
   ]
  },
  {
   "cell_type": "code",
   "execution_count": 2,
   "id": "expected-glucose",
   "metadata": {},
   "outputs": [
    {
     "name": "stdout",
     "output_type": "stream",
     "text": [
      "Pacman emerges victorious! Score: 503\n",
      "Average Score: 503.0\n",
      "Scores:        503.0\n",
      "Win Rate:      1/1 (1.00)\n",
      "Record:        Win\n"
     ]
    }
   ],
   "source": [
    "! python pacman.py --layout testMaze --pacman GoWestAgent"
   ]
  },
  {
   "cell_type": "markdown",
   "id": "behind-integration",
   "metadata": {},
   "source": [
    "But, things get ugly for this agent when turning is required:"
   ]
  },
  {
   "cell_type": "code",
   "execution_count": 3,
   "id": "unauthorized-start",
   "metadata": {},
   "outputs": [],
   "source": [
    "! python pacman.py --layout tinyMaze --pacman GoWestAgent"
   ]
  },
  {
   "cell_type": "markdown",
   "id": "broad-robertson",
   "metadata": {},
   "source": [
    "Note that pacman.py supports a number of options that can each be expressed in a long way (e.g., `--layout`) or a short way (e.g., `-l`). You can see the list of all options and their default values via:"
   ]
  },
  {
   "cell_type": "code",
   "execution_count": null,
   "id": "political-cause",
   "metadata": {
    "scrolled": true
   },
   "outputs": [],
   "source": [
    "! python pacman.py -h"
   ]
  },
  {
   "cell_type": "markdown",
   "id": "aware-diesel",
   "metadata": {},
   "source": [
    "## State-Space Search with Pacman"
   ]
  },
  {
   "cell_type": "markdown",
   "id": "cultural-essex",
   "metadata": {},
   "source": [
    "In `searchAgents.py`, you’ll find a fully implemented `SearchAgent`, which plans out a path through Pacman’s world and then executes that path step-by-step. The search algorithms for formulating a plan are not implemented – that’s your job.\n",
    "\n",
    "First, test that the `SearchAgent` is working correctly by running:"
   ]
  },
  {
   "cell_type": "code",
   "execution_count": null,
   "id": "noticed-server",
   "metadata": {},
   "outputs": [],
   "source": [
    "! python pacman.py -l tinyMaze -p SearchAgent -a fn=tinyMazeSearch"
   ]
  },
  {
   "cell_type": "markdown",
   "id": "presidential-latino",
   "metadata": {},
   "source": [
    "### Bredth-first search"
   ]
  },
  {
   "cell_type": "code",
   "execution_count": null,
   "id": "bizarre-baptist",
   "metadata": {},
   "outputs": [],
   "source": [
    "! python pacman.py -l mediumMaze -p SearchAgent -a fn=bfs"
   ]
  },
  {
   "cell_type": "code",
   "execution_count": null,
   "id": "reliable-circumstances",
   "metadata": {},
   "outputs": [],
   "source": [
    "! python pacman.py -l bigMaze -p SearchAgent -a fn=bfs -z .5"
   ]
  },
  {
   "cell_type": "markdown",
   "id": "automated-finland",
   "metadata": {},
   "source": [
    "If pacman moves too slow for your taste, Pacman’s alter ego PacFlash is here:"
   ]
  },
  {
   "cell_type": "code",
   "execution_count": null,
   "id": "supposed-treaty",
   "metadata": {},
   "outputs": [],
   "source": [
    "! python pacman.py -l bigMaze -p SearchAgent -a fn=bfs -z .5 --frameTime 0"
   ]
  },
  {
   "cell_type": "markdown",
   "id": "wrapped-college",
   "metadata": {},
   "source": [
    "### Uniform-cost search"
   ]
  },
  {
   "cell_type": "code",
   "execution_count": null,
   "id": "broke-decision",
   "metadata": {},
   "outputs": [],
   "source": [
    "! python pacman.py -l mediumMaze -p SearchAgent -a fn=ucs"
   ]
  },
  {
   "cell_type": "code",
   "execution_count": null,
   "id": "national-ukraine",
   "metadata": {},
   "outputs": [],
   "source": [
    "! python pacman.py -l mediumDottedMaze -p StayEastSearchAgent"
   ]
  },
  {
   "cell_type": "code",
   "execution_count": null,
   "id": "cross-coffee",
   "metadata": {},
   "outputs": [],
   "source": [
    "! python pacman.py -l mediumScaryMaze -p StayWestSearchAgent"
   ]
  },
  {
   "cell_type": "markdown",
   "id": "3e44422b",
   "metadata": {},
   "source": [
    "### A* search"
   ]
  },
  {
   "cell_type": "code",
   "execution_count": null,
   "id": "2cdd2dd7",
   "metadata": {},
   "outputs": [],
   "source": [
    "! python pacman.py -l bigMaze -z .5 -p SearchAgent -a fn=astar,heuristic=manhattanHeuristic"
   ]
  },
  {
   "cell_type": "markdown",
   "id": "a9758a7a",
   "metadata": {},
   "source": [
    "### Eating All The Dots"
   ]
  },
  {
   "cell_type": "code",
   "execution_count": null,
   "id": "824dcb48",
   "metadata": {},
   "outputs": [],
   "source": [
    "! python pacman.py -l testSearch -p AStarFoodSearchAgent"
   ]
  }
 ],
 "metadata": {
  "kernelspec": {
   "display_name": "Python 3 (ipykernel)",
   "language": "python",
   "name": "python3"
  },
  "language_info": {
   "codemirror_mode": {
    "name": "ipython",
    "version": 3
   },
   "file_extension": ".py",
   "mimetype": "text/x-python",
   "name": "python",
   "nbconvert_exporter": "python",
   "pygments_lexer": "ipython3",
   "version": "3.9.13"
  }
 },
 "nbformat": 4,
 "nbformat_minor": 5
}
